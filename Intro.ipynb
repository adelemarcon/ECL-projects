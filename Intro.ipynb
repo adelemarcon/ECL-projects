{
 "cells": [
  {
   "cell_type": "code",
   "execution_count": null,
   "id": "5038c874",
   "metadata": {},
   "outputs": [
    {
     "ename": "ModuleNotFoundError",
     "evalue": "No module named 'streamlit'",
     "output_type": "error",
     "traceback": [
      "\u001b[0;31m---------------------------------------------------------------------------\u001b[0m",
      "\u001b[0;31mModuleNotFoundError\u001b[0m                       Traceback (most recent call last)",
      "Cell \u001b[0;32mIn[2], line 1\u001b[0m\n\u001b[0;32m----> 1\u001b[0m \u001b[38;5;28;01mimport\u001b[39;00m \u001b[38;5;21;01mstreamlit\u001b[39;00m \u001b[38;5;28;01mas\u001b[39;00m \u001b[38;5;21;01mst\u001b[39;00m\n\u001b[1;32m      2\u001b[0m \u001b[38;5;28;01mfrom\u001b[39;00m \u001b[38;5;21;01mmatplotlib\u001b[39;00m \u001b[38;5;28;01mimport\u001b[39;00m pyplot \u001b[38;5;28;01mas\u001b[39;00m plt\n\u001b[1;32m      3\u001b[0m \u001b[38;5;28;01mimport\u001b[39;00m \u001b[38;5;21;01mnumpy\u001b[39;00m \u001b[38;5;28;01mas\u001b[39;00m \u001b[38;5;21;01mnp\u001b[39;00m\n",
      "\u001b[0;31mModuleNotFoundError\u001b[0m: No module named 'streamlit'"
     ]
    }
   ],
   "source": [
    "from matplotlib import pyplot as plt\n",
    "import numpy as np\n",
    "from scipy.integrate import odeint\n",
    "import plotly.express as px\n"
   ]
  },
  {
   "cell_type": "code",
   "execution_count": null,
   "id": "8a2682dc",
   "metadata": {},
   "outputs": [
    {
     "ename": "NameError",
     "evalue": "name 'st' is not defined",
     "output_type": "error",
     "traceback": [
      "\u001b[0;31m---------------------------------------------------------------------------\u001b[0m",
      "\u001b[0;31mNameError\u001b[0m                                 Traceback (most recent call last)",
      "Cell \u001b[0;32mIn[1], line 9\u001b[0m\n\u001b[1;32m      6\u001b[0m B0\u001b[38;5;241m=\u001b[39m \u001b[38;5;241m3.1\u001b[39m             \u001b[38;5;66;03m# valeur du champ magnétique (T)\u001b[39;00m\n\u001b[1;32m      7\u001b[0m Lambda \u001b[38;5;241m=\u001b[39m \u001b[38;5;241m9.1e-20\u001b[39m    \u001b[38;5;66;03m# coefficient de frottement fluide (kg/s)\u001b[39;00m\n\u001b[0;32m----> 9\u001b[0m k \u001b[38;5;241m=\u001b[39m st\u001b[38;5;241m.\u001b[39mslider(\u001b[38;5;124m'\u001b[39m\u001b[38;5;124mk: Gradient du champ magnétique\u001b[39m\u001b[38;5;124m'\u001b[39m, min_value\u001b[38;5;241m=\u001b[39m\u001b[38;5;241m100000\u001b[39m, max_value\u001b[38;5;241m=\u001b[39m\u001b[38;5;241m2000000\u001b[39m, step\u001b[38;5;241m=\u001b[39m\u001b[38;5;241m100\u001b[39m)\n\u001b[1;32m     10\u001b[0m \u001b[38;5;66;03m# Paramètres de la résolution numérique\u001b[39;00m\n\u001b[1;32m     11\u001b[0m \u001b[38;5;66;03m# ------------------------------------- \u001b[39;00m\n\u001b[1;32m     12\u001b[0m t_fin \u001b[38;5;241m=\u001b[39m \u001b[38;5;241m60e-12\u001b[39m                     \u001b[38;5;66;03m# durée\u001b[39;00m\n",
      "\u001b[0;31mNameError\u001b[0m: name 'st' is not defined"
     ]
    }
   ],
   "source": [
    "# Valeurs numériques caractéristiques du problème en unités SI\n",
    "# ------------------------------------------------------------\n",
    "q = -1.60e-19       # charge de l'électron (C)                 \n",
    "m = 9.1e-31         # masse de l'électron (kg)   \n",
    "v0 = 3e6            # vitesse initiale de l'électron (m/s)  \n",
    "B0= 3.1             # valeur du champ magnétique (T)\n",
    "Lambda = 9.1e-20    # coefficient de frottement fluide (kg/s)\n",
    "\n",
    "k = 100000\n",
    "# Paramètres de la résolution numérique\n",
    "# ------------------------------------- \n",
    "t_fin = 60e-12                     # durée\n",
    "N = 10000                          # nombre de points\n",
    "t = np.linspace(0,t_fin,N)         # découpage du temps\n",
    "W0 = [0,0,v0,0]                    # conditions initiales\n",
    "\n",
    "# Définition du système différentiel d'ordre 1 à résoudre \n",
    "# ------------------------------------------------------- \n",
    "def systeme (W,t):\n",
    "    Wp = np.zeros(4)                                                        # tableau vide pour stocker les dérivées\n",
    "    Wp[0] = W[2]                                                            # première équation\n",
    "    Wp[1] = W[3]                                                            # deuxième équation \n",
    "    Wp[2] = ((-q * B0) / m) * W[3] * (W[0] * k +1) - (Lambda / m) * W[2]    # troisième équation\n",
    "    Wp[3] = ((q * B0) / m) * W[2] * (W[0] * k +1) - (Lambda /m) * W[3]      # quatrième équation \n",
    "    return Wp\n",
    "\n",
    "# Intégration numérique à l'aide d'odeint\n",
    "# ---------------------------------------\n",
    "Wsol=odeint(systeme,W0,t)                        # la ligne qui fait le job ! \n",
    "x=Wsol[:,0]                                      # extraction de la position\n",
    "y=Wsol[:,1]                                \n",
    "\n",
    "# Représentation graphique\n",
    "# ------------------------\n",
    "\n",
    "# En utilisant matplotlib\n",
    "# plt.plot(1e6*x,1e6*y)\n",
    "# plt.xlabel(\"x(µm)\")\n",
    "# plt.ylabel(\"y(µm)\")\n",
    "# plt.title(\"Document 1: Trajectoire de l'électron\")\n",
    "# plt.grid()\n",
    "# plt.axis('equal')\n",
    "#st.pyplot(plt.gcf())\n",
    "\n",
    "\n",
    "# En utilisant plotly\n",
    "\n",
    "fig = px.line(dict(x=x * 1e6, y=y * 1e6), x=\"x\", y=\"y\", \n",
    "              title = \"Trajectoire de l'électron\", \n",
    "              labels=dict(x=\"x (µm)\", y=\"y (µm)\"),\n",
    "              height=700,\n",
    "              template='plotly_white'\n",
    ")\n",
    "\n",
    "fig.update_layout(\n",
    "    margin=dict(l=20, r=40, t=60, b=20),\n",
    "    paper_bgcolor=\"white\",\n",
    "    plot_bgcolor='#E4EBEC',\n",
    "    title_font_color='black',\n",
    "    title_font_size=20,\n",
    "    title_font_family='arial',\n",
    "    title_x=0.5,\n",
    "    title_xanchor='center',\n",
    "    font_color='black'\n",
    ")\n",
    "fig.update_traces(\n",
    "    line_color='#2471A3'\n",
    ")\n",
    "fig.update_xaxes(\n",
    "    mirror=True,\n",
    "    ticks='outside',\n",
    "    showline=True,\n",
    "    linecolor='black',\n",
    "    title_font_color='black',\n",
    "    tickcolor='black',\n",
    "    tickwidth=2,\n",
    "    zerolinecolor='white',\n",
    "    tickfont_color='black',\n",
    "    showgrid=True,\n",
    "    gridwidth=1,\n",
    "    gridcolor='white'\n",
    ")\n",
    "fig.update_yaxes(\n",
    "    mirror=True,\n",
    "    ticks='outside',\n",
    "    showline=True,\n",
    "    linecolor='black',\n",
    "    title_font_color='black',\n",
    "    tickcolor='black',\n",
    "    tickwidth=2,\n",
    "    zerolinecolor='white',\n",
    "    tickfont_color='black',\n",
    "    showgrid=True,\n",
    "    gridwidth=1,\n",
    "    gridcolor='white'\n",
    ")\n",
    "st.plotly_chart(fig, use_container_width=False)"
   ]
  }
 ],
 "metadata": {
  "kernelspec": {
   "display_name": "base",
   "language": "python",
   "name": "python3"
  },
  "language_info": {
   "codemirror_mode": {
    "name": "ipython",
    "version": 3
   },
   "file_extension": ".py",
   "mimetype": "text/x-python",
   "name": "python",
   "nbconvert_exporter": "python",
   "pygments_lexer": "ipython3",
   "version": "3.11.4"
  }
 },
 "nbformat": 4,
 "nbformat_minor": 5
}
