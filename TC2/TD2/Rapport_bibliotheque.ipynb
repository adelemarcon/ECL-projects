{
 "cells": [
  {
   "cell_type": "markdown",
   "id": "a5211c45",
   "metadata": {},
   "source": [
    "# TD3-INF-TC2\n",
    "Adèle Marcon - groupe C1a - Intervenants: Becquet Antoine/Derrode Lamia"
   ]
  },
  {
   "cell_type": "code",
   "execution_count": 2,
   "id": "9fce62ce",
   "metadata": {},
   "outputs": [
    {
     "data": {
      "text/html": [
       "<img src=\"TD2 (1).png\" width=\"1176\" height=\"897\"/>"
      ],
      "text/plain": [
       "<IPython.core.display.Image object>"
      ]
     },
     "execution_count": 2,
     "metadata": {},
     "output_type": "execute_result"
    }
   ],
   "source": [
    "# import image module\n",
    "from IPython.display import Image\n",
    "\n",
    "# get the image\n",
    "Image(url=\"TD2 (1).png\", width=1176, height=897)"
   ]
  },
  {
   "cell_type": "code",
   "execution_count": null,
   "id": "4cb768f4",
   "metadata": {},
   "outputs": [],
   "source": [
    "def affiche_bibliothecaires(self):\n",
    "    for b in self.__bibliothecaires:\n",
    "        print(b)\n",
    "def affiche_conservateur(self):\n",
    "    print(self.__conservateur)\n",
    "def chercher_bibliothecaire_nom(self,n,p):\n",
    "    for k in self.__bibliothecaires:\n",
    "        if k.get_nom() == n and k.get_prenom() == p:\n",
    "            return k\n",
    "    return None\n",
    "def chercher_bibliothecaire_numero(self,num):\n",
    "    for k in self.__bibliothecaires:\n",
    "        if k.get_numero() == num:\n",
    "            return k\n",
    "    print(\"Le bibliothécaire n'existe pas\")\n",
    "    return None\n",
    "def ajout_bibliothecaire(self,n,p,a,num):\n",
    "    b = Bibliothecaire(n,p,a,num)\n",
    "    self.__bibliothecaires.append(b)\n",
    "    \n",
    "def retrait_bibliothecaire(self,num):\n",
    "    biblio = self.chercher_bibliothecaire_numero(num)\n",
    "    if biblio != None:\n",
    "        for e in self.__emprunts:\n",
    "            if e.get_numero_bibliothecaire() == num:\n",
    "                print(\"Le(La) bibliothécaire est encore lié(e) à des emprunts\")\n",
    "                return False\n",
    "        self.__bibliothecaires.remove(biblio)\n",
    "        print (\"Bibliothécaire retiré\")\n",
    "        return True\n",
    "        \n",
    "def get_conservateur(self):\n",
    "    return self.__conervateur\n",
    "    \n",
    "def set_conservateur(self,nom,prenom,adresse):\n",
    "    c = Conservateur(nom,prenom,adresse)\n",
    "    self.__conservateur = c"
   ]
  },
  {
   "cell_type": "code",
   "execution_count": null,
   "id": "74528978",
   "metadata": {},
   "outputs": [],
   "source": [
    "def emprunt_livre(self,n_lecteur,n_livre,n_bibliothecaire):\n",
    "    liv = self.chercher_livre_numero(n_livre)\n",
    "    if liv == None:\n",
    "       print(\"Livre non trouvé\")\n",
    "       return False\n",
    "    if liv.get_nb_dispo() == 0:\n",
    "       print(\"Plus d'exemplaire disponibles\")\n",
    "       return False\n",
    "    lec = self.chercher_lecteur_numero(n_lecteur)\n",
    "    if lec == None:\n",
    "       print(\"Le lecteur n'existe pas\")\n",
    "       return False\n",
    "    emp = self.chercher_emprunt(n_lecteur,n_livre)\n",
    "    if emp != None:\n",
    "       print(\"Le livre est déjà emprunté par le lecteur\")\n",
    "       return False\n",
    "    biblio = self.chercher_bibliothecaire_numero(n_bibliothecaire)\n",
    "    if biblio == None:\n",
    "       print(\"Le/la Bibliothécaire n'existe pas\")\n",
    "       return False\n",
    "    e = Emprunt(n_lecteur,n_livre,n_bibliothecaire)\n",
    "    self.__emprunts.append(e)\n",
    "    print(\"Emprunt réussi\")\n",
    "    liv.set_nb_dispo(liv.get_nb_dispo() - 1)\n",
    "    lec.set_nb_emprunts(lec.get_nb_emprunts()+1)\n",
    "    return True"
   ]
  }
 ],
 "metadata": {
  "kernelspec": {
   "display_name": "base",
   "language": "python",
   "name": "python3"
  },
  "language_info": {
   "codemirror_mode": {
    "name": "ipython",
    "version": 3
   },
   "file_extension": ".py",
   "mimetype": "text/x-python",
   "name": "python",
   "nbconvert_exporter": "python",
   "pygments_lexer": "ipython3",
   "version": "3.11.4"
  }
 },
 "nbformat": 4,
 "nbformat_minor": 5
}
