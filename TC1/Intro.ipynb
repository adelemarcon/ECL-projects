{
 "cells": [
  {
   "cell_type": "code",
   "execution_count": 3,
   "id": "5038c874",
   "metadata": {},
   "outputs": [],
   "source": [
    "from matplotlib import pyplot as plt\n",
    "import numpy as np\n",
    "from scipy.integrate import odeint\n",
    "import plotly.express as px\n",
    "import random\n"
   ]
  },
  {
   "cell_type": "code",
   "execution_count": 8,
   "id": "1e89d17b",
   "metadata": {},
   "outputs": [],
   "source": [
    "def ecart():\n",
    "    echantillon = [random.gauss(16,2) for n in range(100)]\n",
    "    et = ecart-type(echantillon)\n",
    "    return moyenne((echantillon - et)**2)"
   ]
  }
 ],
 "metadata": {
  "kernelspec": {
   "display_name": "base",
   "language": "python",
   "name": "python3"
  },
  "language_info": {
   "codemirror_mode": {
    "name": "ipython",
    "version": 3
   },
   "file_extension": ".py",
   "mimetype": "text/x-python",
   "name": "python",
   "nbconvert_exporter": "python",
   "pygments_lexer": "ipython3",
   "version": "3.11.4"
  }
 },
 "nbformat": 4,
 "nbformat_minor": 5
}
