{
 "cells": [
  {
   "cell_type": "markdown",
   "id": "6bec4fa7",
   "metadata": {},
   "source": [
    "# TD1"
   ]
  },
  {
   "cell_type": "code",
   "execution_count": 14,
   "id": "5038c874",
   "metadata": {},
   "outputs": [],
   "source": [
    "from matplotlib import pyplot as plt\n",
    "import numpy as np\n",
    "from scipy.integrate import odeint\n",
    "import plotly.express as px\n",
    "import random\n"
   ]
  },
  {
   "cell_type": "code",
   "execution_count": 15,
   "id": "1e89d17b",
   "metadata": {},
   "outputs": [],
   "source": [
    "def ecart():\n",
    "    echantillon = [random.gauss(16,2) for n in range(100)]\n",
    "    et = ecart-type(echantillon)\n",
    "    return moyenne((echantillon - et)**2)"
   ]
  },
  {
   "cell_type": "markdown",
   "id": "95a69ce8",
   "metadata": {},
   "source": [
    "## XVII-2"
   ]
  },
  {
   "cell_type": "code",
   "execution_count": 16,
   "id": "a95a6a4e",
   "metadata": {},
   "outputs": [
    {
     "name": "stdout",
     "output_type": "stream",
     "text": [
      "  1   1 1.000000\n",
      "  2   4 1.414214\n",
      "  3   9 1.732051\n",
      "  4  16 2.000000\n",
      "  5  25 2.236068\n",
      "  6  36 2.449490\n",
      "  7  49 2.645751\n",
      "  8  64 2.828427\n",
      "  9  81 3.000000\n",
      " 10 100 3.162278\n",
      " 11 121 3.316625\n",
      "None\n"
     ]
    }
   ],
   "source": [
    "def table(N):\n",
    "    for x in range(1,N):\n",
    "        print(\"{0:3d} {1:3d} {2:4f}\".format(x,x**2,np.sqrt(x)))\n",
    "\n",
    "print(table(12))"
   ]
  },
  {
   "cell_type": "markdown",
   "id": "c01e5f1d",
   "metadata": {},
   "source": [
    "## XVII-3"
   ]
  },
  {
   "cell_type": "code",
   "execution_count": 35,
   "id": "9aa7de86",
   "metadata": {},
   "outputs": [
    {
     "name": "stdout",
     "output_type": "stream",
     "text": [
      "[1, 2, 3, 4, 5, 7]\n"
     ]
    }
   ],
   "source": [
    "def minimum(L):\n",
    "    i_min = 0\n",
    "    for i in range (len(L)):\n",
    "        if L[i] < L[i_min]:\n",
    "            i_min = i\n",
    "    return i_min\n",
    "    \n",
    "    \n",
    "    \n",
    "def triselect(L):\n",
    "    for k in range(len(L)):\n",
    "        if L[minimum(L[k:])] < L[k]:\n",
    "            i_min = minimum(L[k:]) + k\n",
    "            L[k], L[i_min] = L[i_min], L[k]\n",
    "        \n",
    "    return L\n",
    "\n",
    "print(triselect([3,2,1,5,7,4]))"
   ]
  },
  {
   "cell_type": "markdown",
   "id": "4f68113c",
   "metadata": {},
   "source": [
    "## XVIII"
   ]
  },
  {
   "cell_type": "code",
   "execution_count": 38,
   "id": "e6813ff6",
   "metadata": {},
   "outputs": [
    {
     "name": "stdout",
     "output_type": "stream",
     "text": [
      "On a demandé un entier...\n"
     ]
    }
   ],
   "source": [
    "min=max=0\n",
    "val = input(\"donner le premier entier\")\n",
    "try:\n",
    "    val = int(val)\n",
    "    min=max=val\n",
    "except ValueError:\n",
    "    print(\"On a demandé un entier...\")"
   ]
  },
  {
   "cell_type": "code",
   "execution_count": null,
   "id": "9945b6ca",
   "metadata": {},
   "outputs": [],
   "source": [
    "min=max=0\n",
    "val = input(\"donner le premier entier\")\n",
    "try:\n",
    "    val = int(val)\n",
    "    min=max=val\n",
    "except ValueError:\n",
    "    print(\"On a demandé un entier...\")\n",
    "\n",
    "while True:\n",
    "    try:\n",
    "        val = input(\"donner un entier\")\n",
    "        val = int(val)\n",
    "        if (val < min):\n",
    "            min = val\n",
    "        if val > max:\n",
    "            max = val\n",
    "    except ValueError:\n",
    "        print(\"Bah alors ?\")\n",
    "        exit(0)\n",
    "    except EOFError:\n",
    "        print(\"c'est fini : min =\",min,\" max = \",max,)\n",
    "        break\n",
    "input(\"?\")"
   ]
  }
 ],
 "metadata": {
  "kernelspec": {
   "display_name": "base",
   "language": "python",
   "name": "python3"
  },
  "language_info": {
   "codemirror_mode": {
    "name": "ipython",
    "version": 3
   },
   "file_extension": ".py",
   "mimetype": "text/x-python",
   "name": "python",
   "nbconvert_exporter": "python",
   "pygments_lexer": "ipython3",
   "version": "3.11.4"
  }
 },
 "nbformat": 4,
 "nbformat_minor": 5
}
